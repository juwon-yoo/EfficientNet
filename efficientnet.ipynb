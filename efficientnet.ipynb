{
 "cells": [
  {
   "cell_type": "code",
   "execution_count": null,
   "metadata": {
    "execution": {
     "iopub.execute_input": "2021-09-28T15:24:33.390478Z",
     "iopub.status.busy": "2021-09-28T15:24:33.389806Z",
     "iopub.status.idle": "2021-09-28T15:24:35.142593Z",
     "shell.execute_reply": "2021-09-28T15:24:35.141887Z",
     "shell.execute_reply.started": "2021-09-28T15:24:33.390442Z"
    }
   },
   "outputs": [],
   "source": [
    "import pandas as pd\n",
    "import numpy as np\n",
    "\n",
    "#load data\n",
    "train1 = np.load('../data', allow_pickle=True).item()\n",
    "test1= np.load('../data', allow_pickle=True).item()"
   ]
  },
  {
   "cell_type": "code",
   "execution_count": null,
   "metadata": {
    "execution": {
     "iopub.execute_input": "2021-09-30T08:51:23.166862Z",
     "iopub.status.busy": "2021-09-30T08:51:23.166103Z",
     "iopub.status.idle": "2021-09-30T08:51:30.856669Z",
     "shell.execute_reply": "2021-09-30T08:51:30.855811Z",
     "shell.execute_reply.started": "2021-09-30T08:51:23.166819Z"
    }
   },
   "outputs": [],
   "source": [
    "!pip install efficientnet_pytorch"
   ]
  },
  {
   "cell_type": "code",
   "execution_count": null,
   "metadata": {
    "execution": {
     "iopub.execute_input": "2021-09-30T08:51:43.049337Z",
     "iopub.status.busy": "2021-09-30T08:51:43.048529Z",
     "iopub.status.idle": "2021-09-30T08:51:47.657022Z",
     "shell.execute_reply": "2021-09-30T08:51:47.656162Z",
     "shell.execute_reply.started": "2021-09-30T08:51:43.049287Z"
    }
   },
   "outputs": [],
   "source": [
    "import numpy as np\n",
    "import json\n",
    "from PIL import Image\n",
    "import torch\n",
    "import torch.nn as nn\n",
    "import torch.optim as optim\n",
    "from torch.optim import lr_scheduler\n",
    "from torchvision import transforms\n",
    "import matplotlib.pyplot as plt\n",
    "import time\n",
    "import os\n",
    "import copy\n",
    "import random\n",
    "\n",
    "import torch.optim.lr_scheduler as lr_scheduler\n",
    "from torch.optim.lr_scheduler import _LRScheduler\n",
    "\n",
    "from efficientnet_pytorch import EfficientNet\n",
    "\n",
    "model_name = 'efficientnet-b0'\n",
    "model = EfficientNet.from_pretrained(model_name, num_classes=50)"
   ]
  },
  {
   "cell_type": "code",
   "execution_count": null,
   "metadata": {
    "execution": {
     "iopub.execute_input": "2021-09-30T08:52:13.139509Z",
     "iopub.status.busy": "2021-09-30T08:52:13.139214Z",
     "iopub.status.idle": "2021-09-30T08:52:13.148539Z",
     "shell.execute_reply": "2021-09-30T08:52:13.147868Z",
     "shell.execute_reply.started": "2021-09-30T08:52:13.139477Z"
    }
   },
   "outputs": [],
   "source": [
    "def read_txt(file_name):\n",
    "    with open(file_name, 'rt') as f:\n",
    "        class_list = [row.strip('\\n') for row in f.readlines()]\n",
    "    return class_list\n",
    "\n",
    "class MyDataset:\n",
    "    def __init__(self, root, split='train', transform_fn=None, label='label_info'):\n",
    "        self.dataset = np.load('{}/{}.npy'.format(root, split), allow_pickle=True).item()\n",
    "        self.label_name = read_txt('{}/{}.txt'.format(root, label))\n",
    "        self.transform_fn = transform_fn\n",
    "        self.split = split\n",
    "        \n",
    "        #reshape data\n",
    "        self.dataset['image']=self.dataset['image'].reshape(-1, 224, 224, 3)\n",
    "        a=list(self.dataset['label'])*10\n",
    "        a.sort()\n",
    "        self.dataset['label']=np.array(a)\n",
    "    \n",
    "    @property\n",
    "    def class_num(self):\n",
    "        return len(self.label_name)\n",
    "        \n",
    "    def __len__(self):\n",
    "        return len(self.dataset['label'])\n",
    "    \n",
    "    def __getitem__(self, idx):\n",
    "        image, label = self.dataset['image'][idx], self.dataset['label'][idx]\n",
    "        \n",
    "        if self.transform_fn:\n",
    "            image = self.transform_fn(image)\n",
    "        \n",
    "        return image, label\n",
    "\n"
   ]
  },
  {
   "cell_type": "code",
   "execution_count": null,
   "metadata": {
    "execution": {
     "iopub.execute_input": "2021-09-30T09:59:15.416766Z",
     "iopub.status.busy": "2021-09-30T09:59:15.416001Z"
    }
   },
   "outputs": [],
   "source": [
    "from sklearn.model_selection import train_test_split\n",
    "from torch.utils.data import Subset\n",
    "\n",
    "train_transforms = transforms.Compose([\n",
    "    transforms.ToTensor(),\n",
    "    transforms.Normalize((0.485, 0.456, 0.406), (0.229, 0.224, 0.225))\n",
    "])\n",
    "    \n",
    "test_transforms = transforms.Compose([\n",
    "    transforms.ToTensor(),\n",
    "    transforms.Normalize((0.485, 0.456, 0.406), (0.229, 0.224, 0.225))\n",
    "])\n",
    "\n",
    "train = MyDataset('../input/ajoudeepchallenge2021', 'train', train_transforms)\n",
    "test = MyDataset('../input/ajoudeepchallenge2021', 'test', test_transforms)\n",
    "\n",
    "train_idx, tmp_idx = train_test_split(list(range(len(train))), test_size=0.2, random_state=512)\n",
    "datasets = {}\n",
    "datasets['train'] = Subset(train, train_idx)\n",
    "tmp_dataset       = Subset(train, tmp_idx)\n",
    "\n",
    "val_idx, test_idx = train_test_split(list(range(len(tmp_dataset))), test_size=0.5, random_state=512)\n",
    "datasets['valid'] = Subset(tmp_dataset, val_idx)\n",
    "datasets['test']  = Subset(tmp_dataset, test_idx)\n",
    "\n",
    "dataloaders = {}\n",
    "dataloaders['train'] = torch.utils.data.DataLoader(datasets['train'],\n",
    "                                              batch_size=100, shuffle=True,\n",
    "                                              num_workers=4)\n",
    "dataloaders['valid'] = torch.utils.data.DataLoader(datasets['valid'],\n",
    "                                              batch_size=100, shuffle=False,\n",
    "                                              num_workers=4)\n",
    "dataloaders['test']  = torch.utils.data.DataLoader(datasets['test'],\n",
    "                                              batch_size=100, shuffle=False,\n",
    "                                              num_workers=4)"
   ]
  },
  {
   "cell_type": "code",
   "execution_count": null,
   "metadata": {
    "execution": {
     "iopub.execute_input": "2021-09-30T07:40:03.927076Z",
     "iopub.status.busy": "2021-09-30T07:40:03.926813Z",
     "iopub.status.idle": "2021-09-30T07:40:03.933329Z",
     "shell.execute_reply": "2021-09-30T07:40:03.932508Z",
     "shell.execute_reply.started": "2021-09-30T07:40:03.92705Z"
    }
   },
   "outputs": [],
   "source": [
    "import torchvision\n",
    "def imshow(inp, title=None):\n",
    "    \"\"\"Imshow for Tensor.\"\"\"\n",
    "    inp = inp.numpy().transpose((1, 2, 0))\n",
    "    mean = np.array([0.485, 0.456, 0.406])\n",
    "    std = np.array([0.229, 0.224, 0.225])\n",
    "    inp = std * inp + mean\n",
    "    inp = np.clip(inp, 0, 1)\n",
    "    plt.imshow(inp)\n",
    "    if title is not None:\n",
    "        plt.title(title)\n",
    "    plt.pause(0.001)  # pause a bit so that plots are updated"
   ]
  },
  {
   "cell_type": "code",
   "execution_count": null,
   "metadata": {
    "execution": {
     "iopub.execute_input": "2021-09-30T08:52:38.859438Z",
     "iopub.status.busy": "2021-09-30T08:52:38.859143Z",
     "iopub.status.idle": "2021-09-30T08:52:39.199676Z",
     "shell.execute_reply": "2021-09-30T08:52:39.198977Z",
     "shell.execute_reply.started": "2021-09-30T08:52:38.859389Z"
    }
   },
   "outputs": [],
   "source": [
    "#show image\n",
    "from torchvision import utils\n",
    "import matplotlib.pyplot as plt\n",
    "%matplotlib inline\n",
    "\n",
    "\n",
    "def show(img, y=None):\n",
    "    npimg = img.numpy()\n",
    "    npimg_tr = np.transpose(npimg, (1, 2, 0))\n",
    "    plt.imshow(npimg_tr)\n",
    "\n",
    "    if y is not None:\n",
    "        plt.title('labels:' + str(y))\n",
    "\n",
    "np.random.seed(10)\n",
    "torch.manual_seed(0)\n",
    "\n",
    "grid_size=5\n",
    "rnd_ind = np.random.randint(0, len(train), grid_size)\n",
    "\n",
    "x_grid = [train[i][0] for i in rnd_ind]\n",
    "y_grid = [test[i][1] for i in rnd_ind]\n",
    "\n",
    "x_grid = utils.make_grid(x_grid, nrow=grid_size, padding=2)\n",
    "plt.figure(figsize=(10,10))\n",
    "show(x_grid, y_grid)"
   ]
  },
  {
   "cell_type": "code",
   "execution_count": null,
   "metadata": {
    "execution": {
     "iopub.execute_input": "2021-09-30T08:52:42.360804Z",
     "iopub.status.busy": "2021-09-30T08:52:42.360478Z",
     "iopub.status.idle": "2021-09-30T08:52:42.379023Z",
     "shell.execute_reply": "2021-09-30T08:52:42.378142Z",
     "shell.execute_reply.started": "2021-09-30T08:52:42.360773Z"
    }
   },
   "outputs": [],
   "source": [
    "#model\n",
    "def train_model(model, criterion, optimizer, scheduler, num_epochs=10):\n",
    "    since = time.time()\n",
    "\n",
    "    best_model_wts = copy.deepcopy(model.state_dict())\n",
    "    best_acc = 0.0\n",
    "    train_loss, train_acc, valid_loss, valid_acc = [], [], [], []\n",
    "    \n",
    "    for epoch in range(num_epochs):\n",
    "        print('Epoch {}/{}'.format(epoch, num_epochs - 1))\n",
    "        print('-' * 10)\n",
    "\n",
    "        # Each epoch has a training and validation phase\n",
    "        for phase in ['train', 'valid']:\n",
    "            if phase == 'train':\n",
    "                model.train()  # Set model to training mode\n",
    "            else:\n",
    "                model.eval()   # Set model to evaluate mode\n",
    "\n",
    "            running_loss, running_corrects, num_cnt = 0.0, 0, 0\n",
    "            \n",
    "            # Iterate over data.\n",
    "            for inputs, labels in dataloaders[phase]:\n",
    "                inputs = inputs.to(device)\n",
    "                labels = labels.to(device)\n",
    "\n",
    "                # zero the parameter gradients\n",
    "                optimizer.zero_grad()\n",
    "\n",
    "                # forward\n",
    "                # track history if only in train\n",
    "                with torch.set_grad_enabled(phase == 'train'):\n",
    "                    outputs = model(inputs)\n",
    "                    _, preds = torch.max(outputs, 1)\n",
    "                    loss = criterion(outputs, labels)\n",
    "\n",
    "                    # backward + optimize only if in training phase\n",
    "                    if phase == 'train':\n",
    "                        loss.backward()\n",
    "                        optimizer.step()\n",
    "\n",
    "                # statistics\n",
    "                running_loss += loss.item() * inputs.size(0)\n",
    "                running_corrects += torch.sum(preds == labels.data)\n",
    "                num_cnt += len(labels)\n",
    "            if phase == 'train':\n",
    "                scheduler.step()\n",
    "            \n",
    "            epoch_loss = float(running_loss / num_cnt)\n",
    "            epoch_acc  = float((running_corrects.double() / num_cnt).cpu()*100)\n",
    "            \n",
    "            if phase == 'train':\n",
    "                train_loss.append(epoch_loss)\n",
    "                train_acc.append(epoch_acc)\n",
    "            else:\n",
    "                valid_loss.append(epoch_loss)\n",
    "                valid_acc.append(epoch_acc)\n",
    "            print('{} Loss: {:.2f} Acc: {:.1f}'.format(phase, epoch_loss, epoch_acc))\n",
    "           \n",
    "            # deep copy the model\n",
    "            if phase == 'valid' and epoch_acc > best_acc:\n",
    "                best_idx = epoch\n",
    "                best_acc = epoch_acc\n",
    "                best_model_wts = copy.deepcopy(model.state_dict())\n",
    "                #best_model_wts = copy.deepcopy(model.module.state_dict())\n",
    "                print('==> best model saved - %d / %.1f'%(best_idx, best_acc))\n",
    "\n",
    "    time_elapsed = time.time() - since\n",
    "    print('Training complete in {:.0f}m {:.0f}s'.format(time_elapsed // 60, time_elapsed % 60))\n",
    "    print('Best valid Acc: %d - %.1f' %(best_idx, best_acc))\n",
    "\n",
    "    # load best model weights\n",
    "    model.load_state_dict(best_model_wts)\n",
    "    torch.save(model.state_dict(), 'flower_model.pt')\n",
    "    print('model saved')\n",
    "    return model, best_idx, best_acc, train_loss, train_acc, valid_loss, valid_acc"
   ]
  },
  {
   "cell_type": "code",
   "execution_count": null,
   "metadata": {
    "execution": {
     "iopub.execute_input": "2021-09-30T08:52:54.757608Z",
     "iopub.status.busy": "2021-09-30T08:52:54.756747Z",
     "iopub.status.idle": "2021-09-30T08:53:00.26878Z",
     "shell.execute_reply": "2021-09-30T08:53:00.267975Z",
     "shell.execute_reply.started": "2021-09-30T08:52:54.75756Z"
    }
   },
   "outputs": [],
   "source": [
    "#settings\n",
    "device = torch.device(\"cuda:0\" if torch.cuda.is_available() else \"cpu\")  # set gpu\n",
    "\n",
    "model = model.to(device)\n",
    "\n",
    "criterion = nn.CrossEntropyLoss()\n",
    "criterion = criterion.to(device)\n",
    "\n",
    "optimizer_ft = optim.SGD(model.parameters(), \n",
    "                         lr = 0.05,\n",
    "                         momentum=0.9,\n",
    "                         weight_decay=1e-4)\n",
    "\n",
    "lmbda = lambda epoch: 0.98739\n",
    "exp_lr_scheduler = optim.lr_scheduler.MultiplicativeLR(optimizer_ft, lr_lambda=lmbda)"
   ]
  },
  {
   "cell_type": "code",
   "execution_count": null,
   "metadata": {
    "execution": {
     "iopub.execute_input": "2021-09-30T09:59:47.098536Z",
     "iopub.status.busy": "2021-09-30T09:59:47.097861Z",
     "iopub.status.idle": "2021-09-30T09:59:47.249692Z",
     "shell.execute_reply": "2021-09-30T09:59:47.248529Z",
     "shell.execute_reply.started": "2021-09-30T09:59:47.098433Z"
    }
   },
   "outputs": [],
   "source": [
    "#training\n",
    "model, best_idx, best_acc, train_loss, train_acc, valid_loss, valid_acc = train_model(model, criterion, optimizer_ft, exp_lr_scheduler, num_epochs=10)"
   ]
  },
  {
   "cell_type": "code",
   "execution_count": null,
   "metadata": {
    "execution": {
     "iopub.execute_input": "2021-09-30T09:15:48.290175Z",
     "iopub.status.busy": "2021-09-30T09:15:48.289526Z",
     "iopub.status.idle": "2021-09-30T09:15:48.639938Z",
     "shell.execute_reply": "2021-09-30T09:15:48.639238Z",
     "shell.execute_reply.started": "2021-09-30T09:15:48.290132Z"
    }
   },
   "outputs": [],
   "source": [
    "#show graph\n",
    "print('best model : %d - %1.f / %.1f'%(best_idx, valid_acc[best_idx], valid_loss[best_idx]))\n",
    "fig, ax1 = plt.subplots()\n",
    "ax1.plot(train_acc, 'b-')\n",
    "ax1.plot(valid_acc, 'r-')\n",
    "plt.plot(best_idx, valid_acc[best_idx], 'ro')\n",
    "ax1.set_xlabel('epoch')\n",
    "# Make the y-axis label, ticks and tick labels match the line color.\n",
    "ax1.set_ylabel('acc', color='k')\n",
    "ax1.tick_params('y', colors='k')\n",
    "\n",
    "ax2 = ax1.twinx()\n",
    "ax2.plot(train_loss, 'g-')\n",
    "ax2.plot(valid_loss, 'k-')\n",
    "plt.plot(best_idx, valid_loss[best_idx], 'ro')\n",
    "ax2.set_ylabel('loss', color='k')\n",
    "ax2.tick_params('y', colors='k')\n",
    "\n",
    "fig.tight_layout()\n",
    "plt.show()"
   ]
  },
  {
   "cell_type": "code",
   "execution_count": null,
   "metadata": {
    "execution": {
     "iopub.execute_input": "2021-09-30T09:15:52.645324Z",
     "iopub.status.busy": "2021-09-30T09:15:52.645053Z",
     "iopub.status.idle": "2021-09-30T09:15:52.658732Z",
     "shell.execute_reply": "2021-09-30T09:15:52.657697Z",
     "shell.execute_reply.started": "2021-09-30T09:15:52.645293Z"
    }
   },
   "outputs": [],
   "source": [
    "def test_and_visualize_model(model, phase = 'test', num_images=20):\n",
    "    # phase = 'train', 'valid', 'test'\n",
    "    \n",
    "    was_training = model.training\n",
    "    model.eval()\n",
    "    fig = plt.figure()\n",
    "    \n",
    "    running_loss, running_corrects, num_cnt = 0.0, 0, 0\n",
    "\n",
    "    with torch.no_grad():\n",
    "        for i, (inputs, labels) in enumerate(dataloaders[phase]):\n",
    "            inputs = inputs.to(device)\n",
    "            labels = labels.to(device)\n",
    "\n",
    "            outputs = model(inputs)\n",
    "            _, preds = torch.max(outputs, 1)\n",
    "            loss = criterion(outputs, labels)  # average loss of batch\n",
    "\n",
    "            running_loss    += loss.item() * inputs.size(0)\n",
    "            running_corrects+= torch.sum(preds == labels.data)\n",
    "            num_cnt += inputs.size(0)  # batch size\n",
    "\n",
    "   \n",
    "\n",
    "        test_loss = running_loss / num_cnt\n",
    "        test_acc  = running_corrects.double() / num_cnt       \n",
    "        print('test done : loss/acc : %.2f / %.1f' % (test_loss, test_acc*100))\n",
    "        print(num_cnt)\n",
    "        print(len(preds))\n",
    "\n",
    "    #test image\n",
    "    with torch.no_grad():\n",
    "        for i, (inputs, labels) in enumerate(dataloaders[phase]):\n",
    "            inputs = inputs.to(device)\n",
    "            labels = labels.to(device)\n",
    "\n",
    "            outputs = model(inputs)\n",
    "            _, preds = torch.max(outputs, 1)        \n",
    "\n",
    "            for j in range(1, num_images+1):\n",
    "                ax = plt.subplot(num_images//2, 2, j)\n",
    "                ax.axis('off')\n",
    "                ax.set_title('%s : %s -> %s'%(\n",
    "                    'True' if int(labels[j].cpu().numpy())== int(preds[j].cpu().numpy()) else 'False',\n",
    "                    int(labels[j].cpu().numpy()), int(preds[j].cpu().numpy())))\n",
    "                show(inputs.cpu().data[j])          \n",
    "            if i == 0 : break\n",
    "\n",
    "\n",
    "    model.train(mode=was_training);  \n",
    "    \n",
    "    return preds\n",
    "    "
   ]
  },
  {
   "cell_type": "code",
   "execution_count": null,
   "metadata": {
    "execution": {
     "iopub.execute_input": "2021-09-30T09:15:53.898449Z",
     "iopub.status.busy": "2021-09-30T09:15:53.897757Z",
     "iopub.status.idle": "2021-09-30T09:15:58.105171Z",
     "shell.execute_reply": "2021-09-30T09:15:58.104477Z",
     "shell.execute_reply.started": "2021-09-30T09:15:53.898392Z"
    }
   },
   "outputs": [],
   "source": [
    "#TEST\n",
    "test_and_visualize_model(model, phase = 'test')"
   ]
  },
  {
   "cell_type": "code",
   "execution_count": null,
   "metadata": {
    "execution": {
     "iopub.execute_input": "2021-09-30T09:16:14.653072Z",
     "iopub.status.busy": "2021-09-30T09:16:14.652348Z",
     "iopub.status.idle": "2021-09-30T09:16:14.660862Z",
     "shell.execute_reply": "2021-09-30T09:16:14.65977Z",
     "shell.execute_reply.started": "2021-09-30T09:16:14.653035Z"
    }
   },
   "outputs": [],
   "source": [
    "#predicting label\n",
    "import torch.nn.functional as F\n",
    "\n",
    "def get_predictions(model, iterator, device):\n",
    "\n",
    "    model.eval()\n",
    "\n",
    "    images = []\n",
    "    labels = []\n",
    "    probs = []\n",
    "\n",
    "    with torch.no_grad():\n",
    "\n",
    "        for x, y in iterator:\n",
    "\n",
    "            x = x.to(device)\n",
    "\n",
    "            y_pred = model(x)\n",
    "\n",
    "            y_prob = F.softmax(y_pred, dim = -1)\n",
    "            top_pred = y_prob.argmax(1, keepdim = True)\n",
    "\n",
    "            images.append(x.cpu())\n",
    "            labels.append(y.cpu())\n",
    "            probs.append(y_prob.cpu())\n",
    "\n",
    "    images = torch.cat(images, dim = 0)\n",
    "    labels = torch.cat(labels, dim = 0)\n",
    "    probs = torch.cat(probs, dim = 0)\n",
    "\n",
    "    return images, labels, probs"
   ]
  },
  {
   "cell_type": "code",
   "execution_count": null,
   "metadata": {
    "execution": {
     "iopub.execute_input": "2021-09-30T09:16:32.190177Z",
     "iopub.status.busy": "2021-09-30T09:16:32.189913Z",
     "iopub.status.idle": "2021-09-30T09:16:44.891745Z",
     "shell.execute_reply": "2021-09-30T09:16:44.890981Z",
     "shell.execute_reply.started": "2021-09-30T09:16:32.190149Z"
    }
   },
   "outputs": [],
   "source": [
    "dl_test = torch.utils.data.DataLoader(test, batch_size = 50)\n",
    "dl_train_no=torch.utils.data.DataLoader(train, batch_size = 50)\n",
    "images, labels, probs = get_predictions(model, dl_test, device)\n",
    "\n",
    "pred_labels = torch.argmax(probs, 1)"
   ]
  },
  {
   "cell_type": "code",
   "execution_count": null,
   "metadata": {
    "execution": {
     "iopub.execute_input": "2021-09-30T09:16:58.05518Z",
     "iopub.status.busy": "2021-09-30T09:16:58.054914Z",
     "iopub.status.idle": "2021-09-30T09:16:58.072556Z",
     "shell.execute_reply": "2021-09-30T09:16:58.071849Z",
     "shell.execute_reply.started": "2021-09-30T09:16:58.055151Z"
    }
   },
   "outputs": [],
   "source": [
    "pred_labels= list(map(int, pred_labels))"
   ]
  },
  {
   "cell_type": "code",
   "execution_count": null,
   "metadata": {
    "execution": {
     "iopub.execute_input": "2021-09-30T09:17:21.062753Z",
     "iopub.status.busy": "2021-09-30T09:17:21.06207Z",
     "iopub.status.idle": "2021-09-30T09:17:21.07394Z",
     "shell.execute_reply": "2021-09-30T09:17:21.072094Z",
     "shell.execute_reply.started": "2021-09-30T09:17:21.062714Z"
    }
   },
   "outputs": [],
   "source": [
    "from collections import Counter \n",
    "def modefinder(numbers): \n",
    "    c = Counter(numbers) \n",
    "    mode = c.most_common(1) \n",
    "    return mode[0][0]\n",
    "\n",
    "#result - reshape data\n",
    "pred_ans=[]\n",
    "for i in range(500):\n",
    "    i=i*10\n",
    "    x=modefinder(list(pred_labels[i:i+10]))\n",
    "    pred_ans.append(int(x))\n",
    "    "
   ]
  },
  {
   "cell_type": "code",
   "execution_count": null,
   "metadata": {},
   "outputs": [],
   "source": []
  },
  {
   "cell_type": "code",
   "execution_count": null,
   "metadata": {},
   "outputs": [],
   "source": []
  },
  {
   "cell_type": "code",
   "execution_count": null,
   "metadata": {},
   "outputs": [],
   "source": []
  }
 ],
 "metadata": {
  "kernelspec": {
   "display_name": "Python 3",
   "language": "python",
   "name": "python3"
  },
  "language_info": {
   "codemirror_mode": {
    "name": "ipython",
    "version": 3
   },
   "file_extension": ".py",
   "mimetype": "text/x-python",
   "name": "python",
   "nbconvert_exporter": "python",
   "pygments_lexer": "ipython3",
   "version": "3.8.8"
  }
 },
 "nbformat": 4,
 "nbformat_minor": 4
}
